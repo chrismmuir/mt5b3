{
 "metadata": {
  "language_info": {
   "codemirror_mode": {
    "name": "ipython",
    "version": 3
   },
   "file_extension": ".py",
   "mimetype": "text/x-python",
   "name": "python",
   "nbconvert_exporter": "python",
   "pygments_lexer": "ipython3",
   "version": "3.7.6-final"
  },
  "orig_nbformat": 2,
  "kernelspec": {
   "name": "python3",
   "display_name": "Python 3"
  }
 },
 "nbformat": 4,
 "nbformat_minor": 2,
 "cells": [
  {
   "source": [
    "# Building Autonomous Trader using mt5b3"
   ],
   "cell_type": "markdown",
   "metadata": {}
  },
  {
   "source": [
    "### Installing mt5b3\n",
    "### 1. Download it from https://github.com/paulo-al-castro/mt5b3/\n",
    "### 2. unzip it in a proper fold\n",
    "### 3. Install Metatrader 5 (https://www.metatrader5.com/)\n",
    "### 4. Install python package Metatrader5 using pip\n",
    "####   Use: pip install MetaTrader5 ... or Use sys package\n",
    "\n",
    "\n"
   ],
   "cell_type": "markdown",
   "metadata": {}
  },
  {
   "cell_type": "code",
   "execution_count": null,
   "metadata": {},
   "outputs": [],
   "source": [
    "# installing Metatrader5 using sys\n",
    "import sys\n",
    "# python MetaTrader5\n",
    "!{sys.executable} -m pip install Metatrader5\n",
    "#mt5b3 \n",
    "!{sys.executable} -m pip install mt5b3"
   ]
  },
  {
   "cell_type": "code",
   "execution_count": 1,
   "metadata": {},
   "outputs": [
    {
     "output_type": "stream",
     "name": "stdout",
     "text": [
      "Ok!! It is connected to B3 exchange!!\n"
     ]
    }
   ],
   "source": [
    "import mt5b3 as b3\n",
    "import pandas as pd\n",
    "connected=b3.connect()\n",
    "if connected:\n",
    "    print('Ok!! It is connected to B3 exchange!!')\n",
    "else:\n",
    "    print('Something went wrong! It is NOT connected to B3!!')\n",
    "\n"
   ]
  },
  {
   "source": [
    "## Let's create a Simple Trader based on AI (decision tree)"
   ],
   "cell_type": "markdown",
   "metadata": {}
  },
  {
   "cell_type": "code",
   "execution_count": 2,
   "metadata": {},
   "outputs": [
    {
     "output_type": "stream",
     "name": "stdout",
     "text": [
      "<__main__.SimpleAITrader object at 0x000001F768E92708>\n"
     ]
    }
   ],
   "source": [
    "## Defines the Simple AI Trader\n",
    "from sklearn import tree\n",
    "from sklearn.preprocessing import KBinsDiscretizer\n",
    "\n",
    "class SimpleAITrader(b3.Trader):\n",
    "\n",
    "    def setup(self,dbars):\n",
    "        assets=list(dbars.keys())\n",
    "        if len(assets)!=1:\n",
    "            print('Error, this trader is supposed to deal with just one asset')\n",
    "            return None\n",
    "        bars=dbars[assets[0]]\n",
    "        # remove irrelevant info\n",
    "        if 'time' in bars:\n",
    "            del bars['time']\n",
    "        timeFrame=10 # it takes into account the last 10 bars\n",
    "        horizon=1 # it project the closing price for next bar\n",
    "        target='close' # name of the target column\n",
    "        ds=b3.ai_utils.bars2Dataset(bars,target,timeFrame,horizon)\n",
    "        \n",
    "        X=b3.ai_utils.fromDs2NpArrayAllBut(ds,['target'])\n",
    "        discretizer = KBinsDiscretizer(n_bins=3, encode='ordinal', strategy='uniform') \n",
    "        # creates the discrete target\n",
    "        ds['target']=b3.ai_utils.discTarget(discretizer,ds['target'])\n",
    "        Y=b3.ai_utils.fromDs2NpArray(ds,['target'])\n",
    "\n",
    "        clf = tree.DecisionTreeClassifier()\n",
    "\n",
    "        clf = clf.fit(X, Y)\n",
    "        self.clf=clf\n",
    "\n",
    "    def trade(self,bts,dbars):\n",
    "            assets=dbars.keys()\n",
    "            orders=[]\n",
    "            timeFrame=10 # it takes into account the last 10 bars\n",
    "            horizon=1 # it project the closing price for next bar\n",
    "            target='close' # name of the target column\n",
    "            for asset in assets:\n",
    "                curr_shares=b3.backtest.getShares(bts,asset)\n",
    "                money=b3.backtest.getBalance(bts)/len(assets) # divide o saldo em dinheiro igualmente entre os ativos\n",
    "                free_shares=b3.backtest.getAfforShares(bts,dbars,asset)\n",
    "                # get new information (bars), transform it in X\n",
    "                bars=dbars[asset]\n",
    "                #remove irrelevant info\n",
    "                if 'time' in bars:\n",
    "                    del bars['time']\n",
    "                # convert from bars to dataset\n",
    "                ds=b3.ai_utils.bars2Dataset(bars,target,timeFrame,horizon)\n",
    "                # Get X fields\n",
    "                X=b3.ai_utils.fromDs2NpArrayAllBut(ds,['target'])\n",
    "\n",
    "                # predict the result, using the latest info\n",
    "                p=self.clf.predict([X[-1]])\n",
    "                if p==2:\n",
    "                    #buy it\n",
    "                    order=b3.buyOrder(asset,free_shares)\n",
    "                elif p==0:\n",
    "                    #sell it\n",
    "                    order=b3.sellOrder(asset,curr_shares)\n",
    "                else:\n",
    "                    order=None\n",
    "                if order!=None:\n",
    "                    orders.append(order)\n",
    "            return orders    \n",
    "\n",
    "# creates instance of the Simple AI Trading\n",
    "trader=SimpleAITrader()\n",
    "print(trader)\n"
   ]
  },
  {
   "source": [
    "## Setup and Run a backtest!"
   ],
   "cell_type": "markdown",
   "metadata": {}
  },
  {
   "cell_type": "code",
   "execution_count": 3,
   "metadata": {},
   "outputs": [
    {
     "output_type": "stream",
     "name": "stdout",
     "text": [
      "Backtest Setup is Ok!\n"
     ]
    }
   ],
   "source": [
    "# sets Backtest options \n",
    "prestart=b3.date(2018,12,10)\n",
    "start=b3.date(2019,1,10)\n",
    "end=b3.date(2019,2,27)\n",
    "capital=100000\n",
    "results_file='data_equity_file.csv'\n",
    "verbose=False \n",
    "assets=['PETR4']\n",
    "# Use True if you want debug information for your Trader \n",
    "#sets the backtest setup\n",
    "period=b3.DAILY \n",
    " # it may be b3.INTRADAY (one minute interval)\n",
    "bts=b3.backtest.set(assets,prestart,start,end,period,capital,results_file,verbose)\n",
    "if b3.backtest.checkBTS(bts): # check if the backtest setup is ok!\n",
    "    print('Backtest Setup is Ok!')\n",
    "else:\n",
    "    print('Backtest Setup is NOT Ok!')\n",
    "\n"
   ]
  },
  {
   "cell_type": "code",
   "execution_count": 4,
   "metadata": {},
   "outputs": [
    {
     "output_type": "stream",
     "name": "stdout",
     "text": [
      "End of backtest with  33  bars,  saving equity file in  data_equity_file.csv\n",
      "\n",
      " -----------------------   Backtest Report  ------------------------------- \n",
      "\n",
      "Total Return (%)=8.34 in 33 bars \n",
      "Average Bar Return (%)=0.25  \n",
      "Std Deviation of returns (%) =1.5111\n",
      "\n",
      " ----------------------        End of Report     -------------------------------- \n",
      "\n"
     ]
    }
   ],
   "source": [
    "# Running the backtest\n",
    "df= b3.backtest.run(trader,bts)   \n",
    "# run calls the Trader. setup and trade (one for bar)\n",
    "\n",
    "# evaluates the backtest results\n",
    "b3.backtest.evaluate(df)\n"
   ]
  },
  {
   "source": [
    "## Evaluating Backtesting results\n",
    "\n",
    "The method backtest.run creates a data file with the name given in the backtest setup (bts) \n",
    "\n",
    "This will give you a report about the trader performance\n",
    "\n",
    "We need ot note that it is hard to perform meaningful evaluations using backtest. There are many pitfalls to avoid and it may be easier to get trading robots with great performance in backtest, but that perform really badly in real operations. \n",
    "\n",
    "More about that in mt5b3 backtest evaluation chapter.\n",
    "\n",
    "For a deeper discussion, we suggest:\n",
    "Is it a great Autonomous Trading Strategy or you are just fooling yourself Bernardini,M. and Castro, P.A.L\n",
    "\n",
    "In order to analyze the trader's backtest, you may use :\n",
    "\n",
    "b3.backtest.evaluateFile(fileName)  \n",
    "#fileName is the name of file generated by the backtest\n",
    "\n",
    "or\n",
    "\n",
    "b3.bactest.evaluate(df)  # df is the dataframe returned by b3.backtest.run\n"
   ],
   "cell_type": "markdown",
   "metadata": {}
  },
  {
   "cell_type": "code",
   "execution_count": null,
   "metadata": {},
   "outputs": [],
   "source": []
  }
 ]
}