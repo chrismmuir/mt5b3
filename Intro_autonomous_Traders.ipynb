{
 "metadata": {
  "language_info": {
   "codemirror_mode": {
    "name": "ipython",
    "version": 3
   },
   "file_extension": ".py",
   "mimetype": "text/x-python",
   "name": "python",
   "nbconvert_exporter": "python",
   "pygments_lexer": "ipython3",
   "version": "3.7.6-final"
  },
  "orig_nbformat": 2,
  "kernelspec": {
   "name": "python3",
   "display_name": "Python 3"
  }
 },
 "nbformat": 4,
 "nbformat_minor": 2,
 "cells": [
  {
   "source": [
    "# Building Autonomous Trader using mt5b3"
   ],
   "cell_type": "markdown",
   "metadata": {}
  },
  {
   "source": [
    "### Installing mt5b3\n",
    "### 1. Download it from https://github.com/paulo-al-castro/mt5b3/\n",
    "### 2. unzip it in a proper fold\n",
    "### 3. Install Metatrader 5 (https://www.metatrader5.com/)\n",
    "### 4. Install python package Metatrader5 using pip\n",
    "####   Use: pip install MetaTrader5 ... or Use sys package\n",
    "\n",
    "\n"
   ],
   "cell_type": "markdown",
   "metadata": {}
  },
  {
   "cell_type": "code",
   "execution_count": 1,
   "metadata": {},
   "outputs": [
    {
     "output_type": "stream",
     "name": "stdout",
     "text": [
      "Requirement already satisfied: Metatrader5 in d:\\anaconda3\\lib\\site-packages (5.0.33)\n",
      "Requirement already satisfied: numpy>=1.7 in d:\\anaconda3\\lib\\site-packages (from Metatrader5) (1.18.1)\n",
      "Collecting mt5b3\n",
      "  Using cached mt5b3-0.0.2-py3-none-any.whl (26 kB)\n",
      "Installing collected packages: mt5b3\n",
      "Successfully installed mt5b3-0.0.2\n"
     ]
    }
   ],
   "source": [
    "# installing Metatrader5 using sys\n",
    "import sys\n",
    "# python MetaTrader5\n",
    "!{sys.executable} -m pip install Metatrader5\n",
    "#mt5b3 \n",
    "!{sys.executable} -m pip install mt5b3"
   ]
  },
  {
   "cell_type": "code",
   "execution_count": 2,
   "metadata": {},
   "outputs": [
    {
     "output_type": "stream",
     "name": "stdout",
     "text": [
      "Ok!! It is connected to B3 exchange!!\n"
     ]
    }
   ],
   "source": [
    "import mt5b3 as b3\n",
    "import pandas as pd\n",
    "connected=b3.connect()\n",
    "if connected:\n",
    "    print('Ok!! It is connected to B3 exchange!!')\n",
    "else:\n",
    "    print('Something went wrong! It is NOT connected to B3!!')\n",
    "\n"
   ]
  },
  {
   "source": [
    "## A Dummy Trader!"
   ],
   "cell_type": "markdown",
   "metadata": {}
  },
  {
   "cell_type": "code",
   "execution_count": 2,
   "metadata": {},
   "outputs": [
    {
     "output_type": "stream",
     "name": "stdout",
     "text": [
      "<__main__.DummyTrader object at 0x000001D79426AC08>\n"
     ]
    }
   ],
   "source": [
    "import numpy.random as rand\n",
    "\n",
    "class DummyTrader:\n",
    "    def __init__(self):\n",
    "        pass\n",
    "\n",
    "    def setup(self,dbars):\n",
    "        print('just getting started!')\n",
    "\n",
    "    def trade(self,ops,dbars):\n",
    "        orders=[] \n",
    "        assets=ops['assets']\n",
    "        for asset in assets:\n",
    "            if rand.randint(2)==1:     \n",
    "                order=b3.buyOrder(asset,100)\n",
    "            else:\n",
    "            \torder=b3.sellOrder(asset,100)\n",
    "            orders.append(order)\n",
    "        return orders\n",
    "    \n",
    "    def ending(self,dbars):\n",
    "        print('Ending stuff')\n",
    "\n",
    "trader=DummyTrader()\n",
    "print(trader)"
   ]
  },
  {
   "source": [
    "## Setup and run a backtest!"
   ],
   "cell_type": "markdown",
   "metadata": {}
  },
  {
   "cell_type": "code",
   "execution_count": 3,
   "metadata": {},
   "outputs": [
    {
     "output_type": "stream",
     "name": "stdout",
     "text": [
      "just getting started!\n",
      "End of backtest with  33  bars,  saving equity file in  data_equity_file.csv\n",
      "         date   balance    equity  load\n",
      "0  2019-01-11  102427.0  100000.0   0.0\n",
      "1  2019-01-14  100014.0  100014.0   0.0\n",
      "2  2019-01-15  102425.0  100014.0   0.0\n",
      "3  2019-01-16  100015.0  100015.0   0.0\n",
      "4  2019-01-17  102458.0  100015.0   0.0\n",
      "5  2019-01-18   99992.0   99992.0   0.0\n",
      "6  2019-01-21  102471.0   99992.0   0.0\n",
      "7  2019-01-22  100031.0  100031.0   0.0\n",
      "8  2019-01-23   97562.0  100031.0   0.0\n",
      "9  2019-01-24   95082.0  100042.0   0.0\n",
      "10 2019-01-28   97487.0   99892.0   0.0\n",
      "11 2019-01-29   95024.0   99950.0   0.0\n",
      "12 2019-01-30   92536.0  100000.0   0.0\n",
      "13 2019-01-31   95020.0   99988.0   0.0\n",
      "14 2019-02-01   92515.0  100030.0   0.0\n",
      "15 2019-02-04   89987.0  100099.0   0.0\n",
      "16 2019-02-05   92517.0  100107.0   0.0\n",
      "17 2019-02-06   90042.0   99942.0   0.0\n",
      "18 2019-02-07   87606.0   99786.0   0.0\n",
      "19 2019-02-08   85166.0   99806.0   0.0\n",
      "20 2019-02-11   82754.0   99638.0   0.0\n",
      "21 2019-02-12   80257.0  100233.0   0.0\n",
      "22 2019-02-13   82787.0  100497.0   0.0\n",
      "23 2019-02-14   85404.0  101106.0   0.0\n",
      "24 2019-02-15   88010.0  101040.0   0.0\n",
      "25 2019-02-18   85412.0  101000.0   0.0\n",
      "26 2019-02-19   82753.0  101366.0   0.0\n",
      "27 2019-02-20   80127.0  101135.0   0.0\n",
      "28 2019-02-21   82788.0  101415.0   0.0\n",
      "29 2019-02-22   80154.0  101226.0   0.0\n",
      "30 2019-02-25   82747.0  100898.0   0.0\n",
      "31 2019-02-26   80166.0  100814.0   0.0\n",
      "32 2019-02-27   77536.0  101206.0   0.0\n",
      "\n",
      " -----------------------   Backtest Report  ------------------------------- \n",
      "\n",
      "Total Return (%)=1.21 in 32 bars \n",
      "Average Bar Return (%)=0.04  \n",
      "Std Deviation of returns (%) =0.2147\n",
      "\n",
      " ----------------------        End of Report     -------------------------------- \n",
      "\n"
     ]
    }
   ],
   "source": [
    "# sets Backtest options \n",
    "prestart=b3.date(2018,12,10)\n",
    "start=b3.date(2019,1,10)\n",
    "end=b3.date(2019,2,27)\n",
    "capital=100000\n",
    "results_file='data_equity_file.csv'\n",
    "verbose=False \n",
    "assets=['PETR4']\n",
    "# Use True if you want debug information for your Trader \n",
    "#sets the backtest setup\n",
    "period=b3.DAILY \n",
    " # it may be b3.INTRADAY (one minute interval)\n",
    "bts=b3.backtest.set(assets,prestart,start,end,period,capital,results_file,verbose)\n",
    "\n",
    "# Running the backtest\n",
    "df= b3.backtest.run(trader,bts)   \n",
    "# run calls the Trader. setup and trade (once for each bar)\n",
    "\n",
    "#print the results\n",
    "print(df)\n",
    "\n",
    "b3.backtest.evaluate(df)"
   ]
  },
  {
   "source": [
    "## Let's create a Simple Algorithmic Trader "
   ],
   "cell_type": "markdown",
   "metadata": {}
  },
  {
   "cell_type": "code",
   "execution_count": 4,
   "metadata": {},
   "outputs": [
    {
     "output_type": "stream",
     "name": "stdout",
     "text": [
      "<__main__.MonoAssetTrader object at 0x000001D794232548>\n"
     ]
    }
   ],
   "source": [
    "## Defines the Trader\n",
    "\n",
    "\n",
    "class MonoAssetTrader(b3.Trader):\n",
    "    def trade(self,bts,dbars):\n",
    "        assets=dbars.keys()\n",
    "        asset=list(assets)[0]\n",
    "        orders=[]\n",
    "        bars=dbars[asset]\n",
    "        curr_shares=b3.backtest.getShares(bts,asset)\n",
    "        # number of shares that you can buy\n",
    "        free_shares=b3.backtest.getAfforShares(bts,dbars,asset)\n",
    "        rsi=b3.tech.rsi(bars)\n",
    "        if rsi>=70 and free_shares>0: \n",
    "            order=b3.buyOrder(asset,free_shares)\n",
    "        elif  rsi<70 and curr_shares>0:\n",
    "            order=b3.sellOrder(asset,curr_shares)\n",
    "        else:\n",
    "            order=None\n",
    "        if order!=None:\n",
    "                orders.append(order)\n",
    "        return orders    \n",
    "\n",
    "trader=MonoAssetTrader()\n",
    "print(trader)\n"
   ]
  },
  {
   "source": [
    "## Setup and check a backtest!"
   ],
   "cell_type": "markdown",
   "metadata": {}
  },
  {
   "cell_type": "code",
   "execution_count": 5,
   "metadata": {},
   "outputs": [
    {
     "output_type": "stream",
     "name": "stdout",
     "text": [
      "Backtest Setup is Ok!\n"
     ]
    }
   ],
   "source": [
    "# sets Backtest options \n",
    "prestart=b3.date(2018,12,10)\n",
    "start=b3.date(2019,1,10)\n",
    "end=b3.date(2019,2,27)\n",
    "capital=1000000\n",
    "results_file='data_equity_file.csv'\n",
    "verbose=False \n",
    "assets=['PETR4']\n",
    "# Use True if you want debug information for your Trader \n",
    "#sets the backtest setup\n",
    "period=b3.DAILY \n",
    " # it may be b3.INTRADAY (one minute interval)\n",
    "bts=b3.backtest.set(assets,prestart,start,end,period,capital,results_file,verbose)\n",
    "if b3.backtest.checkBTS(bts): # check if the backtest setup is ok!\n",
    "    print('Backtest Setup is Ok!')\n",
    "else:\n",
    "    print('Backtest Setup is NOT Ok!')\n",
    "\n"
   ]
  },
  {
   "source": [
    "## Run the Backtest"
   ],
   "cell_type": "markdown",
   "metadata": {}
  },
  {
   "cell_type": "code",
   "execution_count": 6,
   "metadata": {},
   "outputs": [
    {
     "output_type": "stream",
     "name": "stdout",
     "text": [
      "End of backtest with  33  bars,  saving equity file in  data_equity_file.csv\n",
      "         date    balance     equity  load\n",
      "0  2019-01-11    12211.0  1000000.0   0.0\n",
      "1  2019-01-14      146.0   994302.0   0.0\n",
      "2  2019-01-15      146.0   993478.0   0.0\n",
      "3  2019-01-16      146.0   993066.0   0.0\n",
      "4  2019-01-17  1006662.0  1006662.0   0.0\n",
      "5  2019-01-18  1006662.0  1006662.0   0.0\n",
      "6  2019-01-21    -4770.0  1006662.0   0.0\n",
      "7  2019-01-22    -4770.0   990750.0   0.0\n",
      "8  2019-01-23    -4770.0  1002582.0   0.0\n",
      "9  2019-01-24    -4770.0  1007070.0   0.0\n",
      "10 2019-01-28    -4770.0   976470.0   0.0\n",
      "11 2019-01-29    -4770.0  1000134.0   0.0\n",
      "12 2019-01-30    -4770.0  1010334.0   0.0\n",
      "13 2019-01-31  1008702.0  1008702.0   0.0\n",
      "14 2019-02-01  1008702.0  1008702.0   0.0\n",
      "15 2019-02-04  1008702.0  1008702.0   0.0\n",
      "16 2019-02-05  1008702.0  1008702.0   0.0\n",
      "17 2019-02-06  1008702.0  1008702.0   0.0\n",
      "18 2019-02-07  1008702.0  1008702.0   0.0\n",
      "19 2019-02-08  1008702.0  1008702.0   0.0\n",
      "20 2019-02-11  1008702.0  1008702.0   0.0\n",
      "21 2019-02-12  1008702.0  1008702.0   0.0\n",
      "22 2019-02-13  1008702.0  1008702.0   0.0\n",
      "23 2019-02-14  1008702.0  1008702.0   0.0\n",
      "24 2019-02-15  1008702.0  1008702.0   0.0\n",
      "25 2019-02-18  1008702.0  1008702.0   0.0\n",
      "26 2019-02-19  1008702.0  1008702.0   0.0\n",
      "27 2019-02-20  1008702.0  1008702.0   0.0\n",
      "28 2019-02-21  1008702.0  1008702.0   0.0\n",
      "29 2019-02-22  1008702.0  1008702.0   0.0\n",
      "30 2019-02-25  1008702.0  1008702.0   0.0\n",
      "31 2019-02-26  1008702.0  1008702.0   0.0\n",
      "32 2019-02-27   -16998.0  1008702.0   0.0\n"
     ]
    }
   ],
   "source": [
    "\n",
    "# Running the backtest\n",
    "df= b3.backtest.run(trader,bts)   \n",
    "# run calls the Trader. setup and trade (once for each bar)\n",
    "\n",
    "#print the results\n",
    "print(df)\n"
   ]
  },
  {
   "source": [
    "## Evaluate the Backtest result"
   ],
   "cell_type": "markdown",
   "metadata": {}
  },
  {
   "cell_type": "code",
   "execution_count": 7,
   "metadata": {},
   "outputs": [
    {
     "output_type": "stream",
     "name": "stdout",
     "text": [
      "\n -----------------------   Backtest Report  ------------------------------- \n\nTotal Return (%)=0.87 in 32 bars \nAverage Bar Return (%)=0.03  \nStd Deviation of returns (%) =0.8515\n\n ----------------------        End of Report     -------------------------------- \n\n"
     ]
    }
   ],
   "source": [
    "# evaluates the backtest results\n",
    "b3.backtest.evaluate(df)\n"
   ]
  },
  {
   "source": [
    "## Evaluating Backtesting results\n",
    "\n",
    "The method backtest.run creates a data file with the name given in the backtest setup (bts) \n",
    "\n",
    "This will give you a report about the trader performance\n",
    "\n",
    "We need ot note that it is hard to perform meaningful evaluations using backtest. There are many pitfalls to avoid and it may be easier to get trading robots with great performance in backtest, but that perform really badly in real operations. \n",
    "\n",
    "More about that in mt5b3 backtest evaluation chapter.\n",
    "\n",
    "For a deeper discussion, we suggest:\n",
    "Is it a great Autonomous Trading Strategy or you are just fooling yourself Bernardini,M. and Castro, P.A.L\n",
    "\n",
    "In order to analyze the trader's backtest, you may use :\n",
    "\n",
    "b3.backtest.evaluateFile(fileName)  #fileName is the name of file generated by the backtest\n",
    "or\n",
    "b3.bactest.evaluate(df)  # df is the dataframe returned by b3.backtest.run\n"
   ],
   "cell_type": "markdown",
   "metadata": {}
  },
  {
   "source": [
    "# Another Example: Multiasset Trader"
   ],
   "cell_type": "markdown",
   "metadata": {}
  },
  {
   "cell_type": "code",
   "execution_count": 8,
   "metadata": {},
   "outputs": [
    {
     "output_type": "stream",
     "name": "stdout",
     "text": [
      "<__main__.MultiAssetTrader object at 0x000001D7942C22C8>\n"
     ]
    }
   ],
   "source": [
    "import mt5b3 as b3\n",
    "\n",
    "class MultiAssetTrader(b3.Trader):\n",
    "    def trade(self,bts,dbars):\n",
    "        assets=dbars.keys()\n",
    "        orders=[]\n",
    "        for asset in assets:\n",
    "            bars=dbars[asset]\n",
    "            curr_shares=b3.backtest.getShares(bts,asset)\n",
    "            money=b3.backtest.getBalance(bts)/len(assets) # divide o saldo em dinheiro igualmente entre os ativos\n",
    "            # number of shares that you can buy of asset \n",
    "            free_shares=b3.backtest.getAfforShares(bts,dbars,asset,money)\n",
    "            rsi=b3.tech.rsi(bars)\n",
    "            if rsi>=70 and free_shares>0: \n",
    "                order=b3.buyOrder(asset,free_shares)\n",
    "            elif  rsi<70 and curr_shares>0:\n",
    "                order=b3.sellOrder(asset,curr_shares)\n",
    "            else:\n",
    "                order=None\n",
    "            if order!=None:\n",
    "                orders.append(order)\n",
    "        return orders    \n",
    "\n",
    "\n",
    "trader=MultiAssetTrader()\n",
    "print(trader)\n",
    " "
   ]
  },
  {
   "source": [
    "## Setuping for Multiple Assets"
   ],
   "cell_type": "markdown",
   "metadata": {}
  },
  {
   "cell_type": "code",
   "execution_count": 9,
   "metadata": {},
   "outputs": [
    {
     "output_type": "stream",
     "name": "stdout",
     "text": [
      "Ok!! It is connected to B3 exchange!!\n",
      "Backtest Setup is Ok!\n"
     ]
    }
   ],
   "source": [
    "import pandas as pd\n",
    "connected=b3.connect()\n",
    "if connected:\n",
    "    print('Ok!! It is connected to B3 exchange!!')\n",
    "else:\n",
    "    print('Something went wrong! It is NOT connected to B3!!')\n",
    "\n",
    "# sets Backtest options \n",
    "prestart=b3.date(2020,5,4)\n",
    "start=b3.date(2020,5,6)\n",
    "end=b3.date(2020,9,21)\n",
    "capital=10000000\n",
    "results_file='data_equity_file.csv'\n",
    "verbose=False \n",
    "assets=['PETR4','BBAS3','BBDC4','ITUB4','VALE3']\n",
    "# Use True if you want debug information for your Trader \n",
    "#sets the backtest setup\n",
    "period=b3.INTRADAY \n",
    "\n",
    "bts=b3.backtest.set(assets,prestart,start,end,period,capital,results_file,verbose)\n",
    "if b3.backtest.checkBTS(bts): # check if the backtest setup is ok!\n",
    "    print('Backtest Setup is Ok!')\n",
    "else:\n",
    "    print('Backtest Setup is NOT Ok!')"
   ]
  },
  {
   "source": [
    "## Run and evaluate the backtest"
   ],
   "cell_type": "markdown",
   "metadata": {}
  },
  {
   "cell_type": "code",
   "execution_count": 10,
   "metadata": {},
   "outputs": [
    {
     "output_type": "stream",
     "name": "stdout",
     "text": [
      "End of backtest with  96  bars,  saving equity file in  data_equity_file.csv\n",
      "\n",
      " -----------------------   Backtest Report  ------------------------------- \n",
      "\n",
      "Total Return (%)=5.89 in 95 bars \n",
      "Average Bar Return (%)=0.06  \n",
      "Std Deviation of returns (%) =0.7426\n",
      "\n",
      " ----------------------        End of Report     -------------------------------- \n",
      "\n"
     ]
    }
   ],
   "source": [
    "\n",
    "\n",
    "# Running the backtest\n",
    "df= b3.backtest.run(trader,bts)   \n",
    "# run calls the Trader. setup and trade (once for each bar)\n",
    "\n",
    "# evaluates the backtest results\n",
    "b3.backtest.evaluate(df)"
   ]
  },
  {
   "cell_type": "code",
   "execution_count": null,
   "metadata": {},
   "outputs": [],
   "source": []
  }
 ]
}